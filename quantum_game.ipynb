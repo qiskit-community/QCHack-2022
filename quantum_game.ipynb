{
  "nbformat": 4,
  "nbformat_minor": 0,
  "metadata": {
    "colab": {
      "name": "quantum_game.ipynb",
      "provenance": [],
      "collapsed_sections": []
    },
    "kernelspec": {
      "name": "python3",
      "display_name": "Python 3"
    },
    "language_info": {
      "name": "python"
    }
  },
  "cells": [
    {
      "cell_type": "markdown",
      "source": [
        "#QCHack 2022 IBM Challenge\n",
        "\n",
        "### Authors: Ruihao, Guarav, Muralik, Kevin, Adrian\n",
        "\n",
        "\n",
        "In this project we create a new quantum implementation of Snakes and Ladders to compete with a classical player and demonstrate a quantum advantage.  We use the Qiskit programming language to create a board represented by a basis of 4 qubits that the quantum player can travel through in a superposition of paths. We then utilize a generalization of Grover's Algorithm to amplify the amplitudes of the leading paths.\n",
        "\n",
        "Though we start with a 16 square board with two ladders and two snakes, this can be generalized to arbitrary boards with varying levels of quantum advantage over a classical player, representing different levels of difficulty."
      ],
      "metadata": {
        "id": "QCJ3xxo9pnt4"
      }
    },
    {
      "cell_type": "code",
      "execution_count": null,
      "metadata": {
        "id": "1In5rgcijN8P",
        "colab": {
          "base_uri": "https://localhost:8080/"
        },
        "outputId": "cf90bd1c-5d58-4117-ca3b-5742b26b9a24"
      },
      "outputs": [
        {
          "output_type": "stream",
          "name": "stdout",
          "text": [
            "Requirement already satisfied: qiskit==0.35 in /usr/local/lib/python3.7/dist-packages (0.35.0)\n",
            "Requirement already satisfied: qiskit-terra==0.20.0 in /usr/local/lib/python3.7/dist-packages (from qiskit==0.35) (0.20.0)\n",
            "Requirement already satisfied: qiskit-aer==0.10.3 in /usr/local/lib/python3.7/dist-packages (from qiskit==0.35) (0.10.3)\n",
            "Requirement already satisfied: qiskit-ibmq-provider==0.18.3 in /usr/local/lib/python3.7/dist-packages (from qiskit==0.35) (0.18.3)\n",
            "Requirement already satisfied: qiskit-ignis==0.7.0 in /usr/local/lib/python3.7/dist-packages (from qiskit==0.35) (0.7.0)\n",
            "Requirement already satisfied: numpy>=1.16.3 in /usr/local/lib/python3.7/dist-packages (from qiskit-aer==0.10.3->qiskit==0.35) (1.21.5)\n",
            "Requirement already satisfied: scipy>=1.0 in /usr/local/lib/python3.7/dist-packages (from qiskit-aer==0.10.3->qiskit==0.35) (1.7.3)\n",
            "Requirement already satisfied: python-dateutil>=2.8.0 in /usr/local/lib/python3.7/dist-packages (from qiskit-ibmq-provider==0.18.3->qiskit==0.35) (2.8.2)\n",
            "Requirement already satisfied: urllib3>=1.21.1 in /usr/local/lib/python3.7/dist-packages (from qiskit-ibmq-provider==0.18.3->qiskit==0.35) (1.24.3)\n",
            "Requirement already satisfied: websocket-client>=1.0.1 in /usr/local/lib/python3.7/dist-packages (from qiskit-ibmq-provider==0.18.3->qiskit==0.35) (1.3.2)\n",
            "Requirement already satisfied: requests-ntlm>=1.1.0 in /usr/local/lib/python3.7/dist-packages (from qiskit-ibmq-provider==0.18.3->qiskit==0.35) (1.1.0)\n",
            "Requirement already satisfied: requests>=2.19 in /usr/local/lib/python3.7/dist-packages (from qiskit-ibmq-provider==0.18.3->qiskit==0.35) (2.23.0)\n",
            "Requirement already satisfied: retworkx>=0.8.0 in /usr/local/lib/python3.7/dist-packages (from qiskit-ignis==0.7.0->qiskit==0.35) (0.11.0)\n",
            "Requirement already satisfied: setuptools>=40.1.0 in /usr/local/lib/python3.7/dist-packages (from qiskit-ignis==0.7.0->qiskit==0.35) (57.4.0)\n",
            "Requirement already satisfied: psutil>=5 in /usr/local/lib/python3.7/dist-packages (from qiskit-terra==0.20.0->qiskit==0.35) (5.4.8)\n",
            "Requirement already satisfied: dill>=0.3 in /usr/local/lib/python3.7/dist-packages (from qiskit-terra==0.20.0->qiskit==0.35) (0.3.4)\n",
            "Requirement already satisfied: python-constraint>=1.4 in /usr/local/lib/python3.7/dist-packages (from qiskit-terra==0.20.0->qiskit==0.35) (1.4.0)\n",
            "Requirement already satisfied: tweedledum<2.0,>=1.1 in /usr/local/lib/python3.7/dist-packages (from qiskit-terra==0.20.0->qiskit==0.35) (1.1.1)\n",
            "Requirement already satisfied: ply>=3.10 in /usr/local/lib/python3.7/dist-packages (from qiskit-terra==0.20.0->qiskit==0.35) (3.11)\n",
            "Requirement already satisfied: stevedore>=3.0.0 in /usr/local/lib/python3.7/dist-packages (from qiskit-terra==0.20.0->qiskit==0.35) (3.5.0)\n",
            "Requirement already satisfied: symengine>=0.9 in /usr/local/lib/python3.7/dist-packages (from qiskit-terra==0.20.0->qiskit==0.35) (0.9.2)\n",
            "Requirement already satisfied: sympy>=1.3 in /usr/local/lib/python3.7/dist-packages (from qiskit-terra==0.20.0->qiskit==0.35) (1.7.1)\n",
            "Requirement already satisfied: six>=1.5 in /usr/local/lib/python3.7/dist-packages (from python-dateutil>=2.8.0->qiskit-ibmq-provider==0.18.3->qiskit==0.35) (1.15.0)\n",
            "Requirement already satisfied: idna<3,>=2.5 in /usr/local/lib/python3.7/dist-packages (from requests>=2.19->qiskit-ibmq-provider==0.18.3->qiskit==0.35) (2.10)\n",
            "Requirement already satisfied: chardet<4,>=3.0.2 in /usr/local/lib/python3.7/dist-packages (from requests>=2.19->qiskit-ibmq-provider==0.18.3->qiskit==0.35) (3.0.4)\n",
            "Requirement already satisfied: certifi>=2017.4.17 in /usr/local/lib/python3.7/dist-packages (from requests>=2.19->qiskit-ibmq-provider==0.18.3->qiskit==0.35) (2021.10.8)\n",
            "Requirement already satisfied: cryptography>=1.3 in /usr/local/lib/python3.7/dist-packages (from requests-ntlm>=1.1.0->qiskit-ibmq-provider==0.18.3->qiskit==0.35) (36.0.2)\n",
            "Requirement already satisfied: ntlm-auth>=1.0.2 in /usr/local/lib/python3.7/dist-packages (from requests-ntlm>=1.1.0->qiskit-ibmq-provider==0.18.3->qiskit==0.35) (1.5.0)\n",
            "Requirement already satisfied: cffi>=1.12 in /usr/local/lib/python3.7/dist-packages (from cryptography>=1.3->requests-ntlm>=1.1.0->qiskit-ibmq-provider==0.18.3->qiskit==0.35) (1.15.0)\n",
            "Requirement already satisfied: pycparser in /usr/local/lib/python3.7/dist-packages (from cffi>=1.12->cryptography>=1.3->requests-ntlm>=1.1.0->qiskit-ibmq-provider==0.18.3->qiskit==0.35) (2.21)\n",
            "Requirement already satisfied: pbr!=2.1.0,>=2.0.0 in /usr/local/lib/python3.7/dist-packages (from stevedore>=3.0.0->qiskit-terra==0.20.0->qiskit==0.35) (5.8.1)\n",
            "Requirement already satisfied: importlib-metadata>=1.7.0 in /usr/local/lib/python3.7/dist-packages (from stevedore>=3.0.0->qiskit-terra==0.20.0->qiskit==0.35) (4.11.3)\n",
            "Requirement already satisfied: zipp>=0.5 in /usr/local/lib/python3.7/dist-packages (from importlib-metadata>=1.7.0->stevedore>=3.0.0->qiskit-terra==0.20.0->qiskit==0.35) (3.7.0)\n",
            "Requirement already satisfied: typing-extensions>=3.6.4 in /usr/local/lib/python3.7/dist-packages (from importlib-metadata>=1.7.0->stevedore>=3.0.0->qiskit-terra==0.20.0->qiskit==0.35) (3.10.0.2)\n",
            "Requirement already satisfied: mpmath>=0.19 in /usr/local/lib/python3.7/dist-packages (from sympy>=1.3->qiskit-terra==0.20.0->qiskit==0.35) (1.2.1)\n"
          ]
        }
      ],
      "source": [
        "!pip install qiskit==0.35"
      ]
    },
    {
      "cell_type": "code",
      "source": [
        "!pip install pylatexenc"
      ],
      "metadata": {
        "id": "Hzj9N_l7pC5n",
        "colab": {
          "base_uri": "https://localhost:8080/"
        },
        "outputId": "509b52da-41f8-4d13-d5ab-d72f11258f4f"
      },
      "execution_count": null,
      "outputs": [
        {
          "output_type": "stream",
          "name": "stdout",
          "text": [
            "Requirement already satisfied: pylatexenc in /usr/local/lib/python3.7/dist-packages (2.10)\n"
          ]
        }
      ]
    },
    {
      "cell_type": "code",
      "source": [
        "import numpy as np\n",
        "import qiskit\n",
        "from qiskit import *\n",
        "import random"
      ],
      "metadata": {
        "id": "iD_EOWTGj7YF"
      },
      "execution_count": null,
      "outputs": []
    },
    {
      "cell_type": "code",
      "source": [
        "\"\"\"\n",
        "Create a predetermined 4-by-4 board with snakes and ladders at several coordinates.\n",
        "Use random number generator to simulate a coin toss\n",
        "\n",
        "position of ladders: [1] and [4]. The ladder operation should follow: 1 --> 5, 4 --> 13\n",
        "position of snakes: [10], [14]. The snake operation should follow: 10 --> 3, 14 --> 0\n",
        "\n",
        "\n",
        "\n",
        "\"\"\"\n",
        "\n",
        "class quantum_snake_ladder:\n",
        "  def __init__(self, grid_size=4, total_coin_toss = 5, ladder_start = [1,4], ladder_end=[5,13], snake_head=[14,10], snake_tail=[0,3]):\n",
        "    self.grid_size = grid_size\n",
        "    self.total_coin_toss = total_coin_toss\n",
        "    self.ladder_start = ladder_start\n",
        "    self.ladder_end = ladder_end\n",
        "    self.snake_head = snake_head\n",
        "    self.snake_tail = snake_tail\n",
        "    if len(self.ladder_start) != len(self.ladder_end):\n",
        "      raise ValueError(\"total ladder start points not equal to ladder end points\")\n",
        "    if len(self.snake_head) != len(self.snake_tail):\n",
        "      raise ValueError(\"total snake heads not equal to snake tails\")\n",
        "  \n",
        "    self.Total_elem = self.grid_size**2\n",
        "    self.Max_bits = len(bin(self.Total_elem).replace('0b',''))\n",
        "\n",
        "    self.current_position = [0]\n",
        "    self.current_classical_position = [0]\n",
        "\n",
        "    qr_main = QuantumRegister(self.Max_bits, name='q')\n",
        "    anc_main = QuantumRegister(1, name='anc')\n",
        "    circ_main = QuantumCircuit(qr_main, anc_main)\n",
        "\n",
        "    for toss_count in range(self.total_coin_toss):\n",
        "         \n",
        "      ## check what numbers we are currently on\n",
        "      print('The current position of quantum player is: ', self.current_position) \n",
        "      print('The current position of classical player is: ', self.current_classical_position)\n",
        "\n",
        "      ## toss a coin\n",
        "      # tail = 1 step ahead, head = 2 steps ahead \n",
        "      # use a random generator to generate 1 or 2\n",
        "      toss_value = random.randint(1,2)\n",
        "\n",
        "      print('The value of the toss is: ', toss_value)\n",
        "\n",
        "      # position of ladders: 1 --> 5, 4 --> 13\n",
        "      # position of snakes: 10 --> 3, 14 --> 0\n",
        "\n",
        "      for num_positions in range(len(self.current_position)):\n",
        "        self.current_position[num_positions] = self.current_position[num_positions] + toss_value\n",
        "        circ_main = circ_main.compose(self.adder(toss_value))\n",
        "\n",
        "      self.current_classical_position[0] = self.current_classical_position[0] + toss_value\n",
        "\n",
        "      print('After the toss, the current position of quantum player is: ', self.current_position)\n",
        "      print('After the toss, the current position of classical player is: ', self.current_classical_position)\n",
        "\n",
        "      print('Checking for ladders and snakes....')\n",
        "      \n",
        "      ## apply appropriate operator based on the coin toss\n",
        "\n",
        "      for num_positions in range(len(self.current_position)):\n",
        "        if self.current_position[num_positions]==1:\n",
        "          circ_main = circ_main.compose(self.ladder(1,5))\n",
        "          self.current_position = self.current_position + [5]\n",
        "          self.current_classical_position[0] = 5\n",
        "          print('There is a ladder at position 1 and the current quantum player position is: ', self.current_position)\n",
        "          print('There is a ladder at position 1 and the current classical player position is: ', self.current_classical_position) \n",
        "        elif self.current_position[num_positions]==4:\n",
        "          circ_main = circ_main.compose(self.ladder(4,13))\n",
        "          self.current_position = self.current_position + [13]\n",
        "          self.current_classical_position[0] = 13\n",
        "          print('There is a ladder at position 4 and the current quantum player position is: ', self.current_position) \n",
        "          print('There is a ladder at position 4 and the current classical player position is: ', self.current_classical_position) \n",
        "        elif self.current_position[num_positions]==10:\n",
        "          circ_main = circ_main.compose(self.ladder(10,3))\n",
        "          self.current_position[num_positions] = 3\n",
        "          self.current_classical_position[0] = 3\n",
        "          print('There is a snake at position 10 and the current quantum player position is: ', self.current_position) \n",
        "          print('There is a snake at position 10 and the current classical player position is: ', self.current_classical_position) \n",
        "        elif self.current_position[num_positions]==14:\n",
        "          circ_main = circ_main.compose(self.ladder(14,0))\n",
        "          # current_position = current_position.remove(14) + [0]\n",
        "          self.current_position[num_positions] = 0\n",
        "          self.current_classical_position[0] = 0\n",
        "          print('There is a snake at position 14 and the current quantum player position is: ', self.current_position) \n",
        "          print('There is a snake at position 14 and the current classical player position is: ', self.current_classical_position) \n",
        "\n",
        "\n",
        "  def dec_to_bin(self, n):\n",
        "    bnr = bin(n).replace('0b','')\n",
        "    x = bnr[::-1] #this reverses an array\n",
        "    while len(x) < self.Max_bits:\n",
        "      x += '0'\n",
        "    bnr = x[::-1] \n",
        "    return bnr \n",
        "    \n",
        "  def adder(self, n):\n",
        "    \"\"\"\n",
        "    n: number of adder operations, corresponding to the number of steps forward in the game\n",
        "    \"\"\"\n",
        "    qr = QuantumRegister(self.Max_bits, name='q')\n",
        "    adder_circ = QuantumCircuit(qr)\n",
        "    for i in range(n):\n",
        "      for j in reversed(range(1, self.Max_bits)):\n",
        "        adder_circ.mct(list(range(j)), j)\n",
        "      adder_circ.x(0)\n",
        "\n",
        "    return adder_circ\n",
        "\n",
        "  def ladder(self, start_pt, end_pt):\n",
        "    \"\"\"\n",
        "      creates a ladder from start_pt to end_pt. \n",
        "      In the quantum mechanical game, ladder creates a superpostion between these\n",
        "      points.\n",
        "    \"\"\"\n",
        "    start = self.dec_to_bin(start_pt)\n",
        "    end = self.dec_to_bin(end_pt)\n",
        "\n",
        "    qr = QuantumRegister(self.Max_bits, name='q')\n",
        "    anc = QuantumRegister(1, name='anc')\n",
        "    circ = QuantumCircuit(qr, anc)\n",
        "\n",
        "    for i in range(self.Max_bits):\n",
        "      if start[i] == '0':\n",
        "        circ.x(qr[self.Max_bits - 1 -i])\n",
        "    circ.mct(list(range(self.Max_bits)), anc[0])\n",
        "    for i in range(self.Max_bits):\n",
        "      if start[i] == '0':\n",
        "        circ.x(qr[self.Max_bits-1-i])\n",
        "    circ.barrier()\n",
        "    total_diff = 0\n",
        "    for i in range(self.Max_bits):\n",
        "      if (start[i] == '1' and end[i] == '0') or (start[i] == '0' and end[i] == '1'):\n",
        "        total_diff+=1\n",
        "        if total_diff == 1:\n",
        "          circ.ch(anc[0],qr[self.Max_bits-1-i])\n",
        "          j = i\n",
        "        else:\n",
        "          circ.mct([anc[0],qr[self.Max_bits-1-j]],qr[self.Max_bits-1-i])\n",
        "    # reset ancilla\n",
        "    circ.reset(anc)\n",
        "\n",
        "    return circ\n",
        "\n",
        "  def snake(self, head, tail):\n",
        "    \"\"\"\n",
        "      creates a snake from head to tail. \n",
        "      In the quantum mechanical game, snake changes the superpostion of any state\n",
        "      with head to a superposition between that state and tail.\n",
        "    \"\"\"\n",
        "    start = self.dec_to_bin(head)\n",
        "    end = self.dec_to_bin(tail)\n",
        "\n",
        "    qr = QuantumRegister(self.Max_bits, name='q')\n",
        "    anc = QuantumRegister(1, name='anc')\n",
        "    circ = QuantumCircuit(qr, anc)\n",
        "\n",
        "    # snake from head to tail\n",
        "    for i in range(self.Max_bits):\n",
        "      if start[i] == '0':\n",
        "        circ.x(qr[self.Max_bits-1-i])\n",
        "    circ.mct(list(range(self.Max_bits)), anc[0])\n",
        "    for i in range(self.Max_bits):\n",
        "      if start[i] == '0':\n",
        "        circ.x(qr[self.Max_bits-1-i])\n",
        "\n",
        "    circ.barrier()\n",
        "\n",
        "    # snake from head to tail\n",
        "    for i in range(self.Max_bits):\n",
        "      if (start[i] == '1' and end[i] == '0') or (start[i] == '0' and end[i] == '1'):\n",
        "        circ.cx(anc[0],qr[self.Max_bits-1-i])\n",
        "\n",
        "    # reset ancilla\n",
        "    circ.reset(anc)\n",
        "\n",
        "    return circ #circ.to_instruction()\n",
        "\n"
      ],
      "metadata": {
        "id": "if9Vw1nhSvxW"
      },
      "execution_count": 72,
      "outputs": []
    },
    {
      "cell_type": "code",
      "source": [
        "newgame = quantum_snake_ladder()\n",
        "print(newgame.current_position)\n",
        "print(newgame.current_classical_position)"
      ],
      "metadata": {
        "colab": {
          "base_uri": "https://localhost:8080/"
        },
        "id": "LRGV-7duV2H_",
        "outputId": "96bbb364-a82a-45f9-a052-84de0155ae44"
      },
      "execution_count": 74,
      "outputs": [
        {
          "output_type": "stream",
          "name": "stdout",
          "text": [
            "The current position of quantum player is:  [0]\n",
            "The current position of classical player is:  [0]\n",
            "The value of the toss is:  1\n",
            "After the toss, the current position of quantum player is:  [1]\n",
            "After the toss, the current position of classical player is:  [1]\n",
            "Checking for ladders and snakes....\n",
            "There is a ladder at position 1 and the current quantum player position is:  [1, 5]\n",
            "There is a ladder at position 1 and the current classical player position is:  [5]\n",
            "The current position of quantum player is:  [1, 5]\n",
            "The current position of classical player is:  [5]\n",
            "The value of the toss is:  1\n",
            "After the toss, the current position of quantum player is:  [2, 6]\n",
            "After the toss, the current position of classical player is:  [6]\n",
            "Checking for ladders and snakes....\n",
            "The current position of quantum player is:  [2, 6]\n",
            "The current position of classical player is:  [6]\n",
            "The value of the toss is:  1\n",
            "After the toss, the current position of quantum player is:  [3, 7]\n",
            "After the toss, the current position of classical player is:  [7]\n",
            "Checking for ladders and snakes....\n",
            "The current position of quantum player is:  [3, 7]\n",
            "The current position of classical player is:  [7]\n",
            "The value of the toss is:  2\n",
            "After the toss, the current position of quantum player is:  [5, 9]\n",
            "After the toss, the current position of classical player is:  [9]\n",
            "Checking for ladders and snakes....\n",
            "The current position of quantum player is:  [5, 9]\n",
            "The current position of classical player is:  [9]\n",
            "The value of the toss is:  1\n",
            "After the toss, the current position of quantum player is:  [6, 10]\n",
            "After the toss, the current position of classical player is:  [10]\n",
            "Checking for ladders and snakes....\n",
            "There is a snake at position 10 and the current quantum player position is:  [6, 3]\n",
            "There is a snake at position 10 and the current classical player position is:  [3]\n",
            "[6, 3]\n",
            "[3]\n"
          ]
        }
      ]
    },
    {
      "cell_type": "code",
      "source": [
        ""
      ],
      "metadata": {
        "id": "SWVElp9Gp-E8"
      },
      "execution_count": null,
      "outputs": []
    },
    {
      "cell_type": "code",
      "source": [
        ""
      ],
      "metadata": {
        "id": "3RgNxCkgrtVX"
      },
      "execution_count": null,
      "outputs": []
    }
  ]
}